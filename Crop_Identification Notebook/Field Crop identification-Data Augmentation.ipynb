{
 "cells": [
  {
   "cell_type": "code",
   "execution_count": 1,
   "id": "47349587",
   "metadata": {},
   "outputs": [
    {
     "name": "stdout",
     "output_type": "stream",
     "text": [
      "Requirement already satisfied: augmentor in c:\\users\\sneha\\appdata\\roaming\\python\\python310\\site-packages (0.2.12)\n",
      "Requirement already satisfied: Pillow>=5.2.0 in c:\\users\\sneha\\appdata\\roaming\\python\\python310\\site-packages (from augmentor) (9.5.0)\n",
      "Requirement already satisfied: tqdm>=4.9.0 in c:\\users\\sneha\\appdata\\roaming\\python\\python310\\site-packages (from augmentor) (4.64.0)\n",
      "Requirement already satisfied: numpy>=1.11.0 in c:\\users\\sneha\\appdata\\roaming\\python\\python310\\site-packages (from augmentor) (1.24.1)\n",
      "Requirement already satisfied: colorama in c:\\users\\sneha\\appdata\\roaming\\python\\python310\\site-packages (from tqdm>=4.9.0->augmentor) (0.4.4)\n",
      "Note: you may need to restart the kernel to use updated packages.\n"
     ]
    },
    {
     "name": "stderr",
     "output_type": "stream",
     "text": [
      "WARNING: Ignoring invalid distribution -illow (c:\\users\\sneha\\appdata\\roaming\\python\\python310\\site-packages)\n",
      "WARNING: Ignoring invalid distribution -illow (c:\\users\\sneha\\appdata\\roaming\\python\\python310\\site-packages)\n",
      "\n",
      "[notice] A new release of pip is available: 23.1.1 -> 23.3.1\n",
      "[notice] To update, run: python.exe -m pip install --upgrade pip\n"
     ]
    }
   ],
   "source": [
    "pip install augmentor"
   ]
  },
  {
   "cell_type": "code",
   "execution_count": 2,
   "id": "c28ae8e1",
   "metadata": {},
   "outputs": [],
   "source": [
    "import Augmentor\n",
    "import numpy as np\n",
    "import os\n",
    "import glob\n",
    "import random\n",
    "import collections\n",
    "from PIL import Image\n",
    "import keras\n",
    "from keras.models import Sequential\n",
    "from keras.layers import Dense, Dropout, Flatten\n",
    "from keras.layers import Conv2D, MaxPooling2D\n",
    "import matplotlib.pyplot as plt\n"
   ]
  },
  {
   "cell_type": "code",
   "execution_count": 3,
   "id": "f0992892",
   "metadata": {},
   "outputs": [
    {
     "name": "stdout",
     "output_type": "stream",
     "text": [
      "Folders (classes) found: ['jute', 'maize', 'rice', 'sugarcane', 'wheat'] \n"
     ]
    }
   ],
   "source": [
    "root_directory = \"F:/Main project/datasets/Train/*\"\n",
    "\n",
    "folders = []\n",
    "\n",
    "for f in glob.glob(root_directory):\n",
    "    \n",
    "    if os.path.isdir(f):\n",
    "        \n",
    "        folders.append(os.path.abspath(f))\n",
    "        \n",
    "\n",
    "print(\"Folders (classes) found: %s \" % [os.path.split(x)[1] for x in folders])"
   ]
  },
  {
   "cell_type": "code",
   "execution_count": 4,
   "id": "8e548a94",
   "metadata": {},
   "outputs": [
    {
     "name": "stdout",
     "output_type": "stream",
     "text": [
      "Folder F:\\Main project\\datasets\\Train\\jute:\n",
      "Initialised with 319 image(s) found.\n",
      "Output directory set to F:\\Main project\\datasets\\Train\\jute\\output.\n",
      "----------------------------\n",
      "\n",
      "Folder F:\\Main project\\datasets\\Train\\maize:\n",
      "Initialised with 319 image(s) found.\n",
      "Output directory set to F:\\Main project\\datasets\\Train\\maize\\output.\n",
      "----------------------------\n",
      "\n",
      "Folder F:\\Main project\\datasets\\Train\\rice:\n",
      "Initialised with 317 image(s) found.\n",
      "Output directory set to F:\\Main project\\datasets\\Train\\rice\\output.\n",
      "----------------------------\n",
      "\n",
      "Folder F:\\Main project\\datasets\\Train\\sugarcane:\n",
      "Initialised with 318 image(s) found.\n",
      "Output directory set to F:\\Main project\\datasets\\Train\\sugarcane\\output.\n",
      "----------------------------\n",
      "\n",
      "Folder F:\\Main project\\datasets\\Train\\wheat:\n",
      "Initialised with 321 image(s) found.\n",
      "Output directory set to F:\\Main project\\datasets\\Train\\wheat\\output.\n",
      "----------------------------\n",
      "\n",
      "Class jute has 319 samples.\n",
      "Class maize has 319 samples.\n",
      "Class rice has 317 samples.\n",
      "Class sugarcane has 318 samples.\n",
      "Class wheat has 321 samples.\n"
     ]
    },
    {
     "data": {
      "text/plain": [
       "{'jute': <Augmentor.Pipeline.Pipeline at 0x192e7966ec0>,\n",
       " 'maize': <Augmentor.Pipeline.Pipeline at 0x1928eb544f0>,\n",
       " 'rice': <Augmentor.Pipeline.Pipeline at 0x1928f26fe20>,\n",
       " 'sugarcane': <Augmentor.Pipeline.Pipeline at 0x1928f32d210>,\n",
       " 'wheat': <Augmentor.Pipeline.Pipeline at 0x1928f2f9750>}"
      ]
     },
     "execution_count": 4,
     "metadata": {},
     "output_type": "execute_result"
    }
   ],
   "source": [
    "pipelines = {}\n",
    "for folder in folders:\n",
    "    print(\"Folder %s:\" % (folder))\n",
    "    pipelines[os.path.split(folder)[1]] = (Augmentor.Pipeline(folder))\n",
    "    print(\"\\n----------------------------\\n\")\n",
    "\n",
    "for p in pipelines.values():\n",
    "    print(\"Class %s has %s samples.\" % (p.augmentor_images[0].class_label, len(p.augmentor_images)))\n",
    "    \n",
    "pipelines "
   ]
  },
  {
   "cell_type": "code",
   "execution_count": 5,
   "id": "93aaf64d",
   "metadata": {},
   "outputs": [
    {
     "name": "stderr",
     "output_type": "stream",
     "text": [
      "Processing <PIL.Image.Image image mode=L size=256x256 at 0x1928F3BFCA0>: 100%|██| 33/33 [00:00<00:00, 146.95 Samples/s]\n",
      "Processing <PIL.Image.Image image mode=L size=256x256 at 0x1928F3BC6D0>: 100%|██| 33/33 [00:00<00:00, 172.86 Samples/s]\n",
      "Processing <PIL.Image.Image image mode=L size=256x256 at 0x1928F3BD8D0>: 100%|██| 33/33 [00:00<00:00, 188.13 Samples/s]\n",
      "Processing <PIL.Image.Image image mode=RGB size=224x224 at 0x1928F3BF640>: 100%|█| 33/33 [00:00<00:00, 190.88 Samples/s\n",
      "Processing <PIL.Image.Image image mode=RGB size=224x224 at 0x1928F3BE4A0>: 100%|█| 33/33 [00:00<00:00, 207.62 Samples/s\n"
     ]
    },
    {
     "data": {
      "text/plain": [
       "<generator object multi_generator at 0x000001928F381850>"
      ]
     },
     "execution_count": 5,
     "metadata": {},
     "output_type": "execute_result"
    }
   ],
   "source": [
    "for pipeline in pipelines.values():\n",
    "    pipeline.rotate(probability=0.75, max_left_rotation=10, max_right_rotation=10)\n",
    "    pipeline.flip_left_right(probability=0.8)\n",
    "    pipeline.skew(probability=0.4)\n",
    "    pipeline.random_distortion(probability=0.5, grid_width=3, grid_height=7,magnitude=2)\n",
    "    pipeline.crop_centre(probability=0.1,percentage_area=0.8)\n",
    "    pipeline.sample(33)\n",
    "\n",
    "integer_labels = {\n",
    "    'jute': 0,\n",
    "    'maize': 1,\n",
    "    'rice': 2,\n",
    "    'sugarcane': 3,\n",
    "    'wheat':4\n",
    "}\n",
    "\n",
    "PipelineContainer = collections.namedtuple(\n",
    "    'PipelineContainer',\n",
    "    'label label_integer label_categorical pipeline generator'\n",
    ")\n",
    "\n",
    "\n",
    "pipeline_containers = []\n",
    "\n",
    "for label, pipeline in pipelines.items():\n",
    "    label_categorical = np.zeros(len(pipelines), dtype=int)\n",
    "    label_categorical[integer_labels[label]] = 1\n",
    "    pipeline_containers.append(\n",
    "        PipelineContainer(\n",
    "            label,\n",
    "            integer_labels[label],\n",
    "            label_categorical,\n",
    "            pipeline,\n",
    "            pipeline.keras_generator(batch_size=1)\n",
    "        )\n",
    "    )\n",
    "\n",
    "\n",
    "\n",
    "def multi_generator(pipeline_containers, batch_size):\n",
    "    X = []\n",
    "    y = []\n",
    "    for i in range(batch_size):\n",
    "        pipeline_container = random.choice(pipeline_containers)\n",
    "        image, _ = next(pipeline_container.generator)\n",
    "        image = image.reshape((224,224,3)) # Or (1, 28, 28) for channels_first, see Keras' docs.\n",
    "        X.append(image)\n",
    "        y.append(pipeline_container.label_categorical) # Or label_integer if required by network\n",
    "        X = np.asarray(X)\n",
    "        y = np.asarray(y)\n",
    "    yield X, y\n",
    "            \n",
    "multi_generator(pipeline_containers,1)"
   ]
  },
  {
   "cell_type": "code",
   "execution_count": 6,
   "id": "8f2cd38a",
   "metadata": {},
   "outputs": [
    {
     "name": "stdout",
     "output_type": "stream",
     "text": [
      "dict_keys(['jute', 'maize', 'rice', 'sugarcane', 'wheat'])\n",
      "dict_keys(['jute', 'maize', 'rice', 'sugarcane', 'wheat'])\n"
     ]
    }
   ],
   "source": [
    "print(pipelines.keys())\n",
    "print(integer_labels.keys())"
   ]
  },
  {
   "cell_type": "code",
   "execution_count": null,
   "id": "874849b8",
   "metadata": {},
   "outputs": [],
   "source": []
  }
 ],
 "metadata": {
  "kernelspec": {
   "display_name": "Python 3 (ipykernel)",
   "language": "python",
   "name": "python3"
  },
  "language_info": {
   "codemirror_mode": {
    "name": "ipython",
    "version": 3
   },
   "file_extension": ".py",
   "mimetype": "text/x-python",
   "name": "python",
   "nbconvert_exporter": "python",
   "pygments_lexer": "ipython3",
   "version": "3.10.9"
  }
 },
 "nbformat": 4,
 "nbformat_minor": 5
}
