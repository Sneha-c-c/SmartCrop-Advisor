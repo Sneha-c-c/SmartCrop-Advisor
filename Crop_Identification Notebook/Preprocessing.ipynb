{
 "cells": [
  {
   "cell_type": "markdown",
   "id": "3f833994",
   "metadata": {},
   "source": [
    "# Data Preprocessing"
   ]
  },
  {
   "cell_type": "code",
   "execution_count": 9,
   "id": "38b6474c",
   "metadata": {},
   "outputs": [],
   "source": [
    "import cv2\n",
    "import os\n",
    "import numpy as np"
   ]
  },
  {
   "cell_type": "code",
   "execution_count": 10,
   "id": "27550ad3",
   "metadata": {},
   "outputs": [
    {
     "name": "stdout",
     "output_type": "stream",
     "text": [
      "Requirement already satisfied: opencv-python in c:\\users\\sneha\\appdata\\roaming\\python\\python310\\site-packages (4.6.0.66)\n",
      "Requirement already satisfied: numpy>=1.21.2 in c:\\users\\sneha\\appdata\\roaming\\python\\python310\\site-packages (from opencv-python) (1.24.1)\n",
      "Note: you may need to restart the kernel to use updated packages.\n"
     ]
    },
    {
     "name": "stderr",
     "output_type": "stream",
     "text": [
      "WARNING: Ignoring invalid distribution -illow (c:\\users\\sneha\\appdata\\roaming\\python\\python310\\site-packages)\n",
      "WARNING: Ignoring invalid distribution -illow (c:\\users\\sneha\\appdata\\roaming\\python\\python310\\site-packages)\n",
      "\n",
      "[notice] A new release of pip is available: 23.1.1 -> 23.3.1\n",
      "[notice] To update, run: python.exe -m pip install --upgrade pip\n"
     ]
    }
   ],
   "source": [
    "pip install opencv-python"
   ]
  },
  {
   "cell_type": "code",
   "execution_count": 11,
   "id": "cbdef385",
   "metadata": {},
   "outputs": [],
   "source": [
    "input_folder_path = 'F:/Main project/augmentedData' \n",
    "output_folder_path = 'F:/preprocessed'"
   ]
  },
  {
   "cell_type": "code",
   "execution_count": 12,
   "id": "a064a8c8",
   "metadata": {},
   "outputs": [],
   "source": [
    "for class_folder in os.listdir(input_folder_path):\n",
    "    class_path = os.path.join(input_folder_path, class_folder)\n",
    "    output_class_path = os.path.join(output_folder_path, class_folder)\n",
    "    os.makedirs(output_class_path, exist_ok=True)\n",
    "    for filename in os.listdir(class_path):\n",
    "        img_path = os.path.join(class_path, filename)\n",
    "        img = cv2.imread(img_path)\n",
    "       \n",
    "        img = cv2.resize(img, (256, 256)) \n",
    "\n",
    "        gray = cv2.cvtColor(img, cv2.COLOR_BGR2GRAY)\n",
    "        thresh, binary = cv2.threshold(gray, 0, 255, cv2.THRESH_BINARY + cv2.THRESH_OTSU)\n",
    "        output_img_path = os.path.join(output_class_path, filename)\n",
    "        cv2.imwrite(output_img_path, binary)"
   ]
  },
  {
   "cell_type": "code",
   "execution_count": null,
   "id": "0752cd1c",
   "metadata": {},
   "outputs": [],
   "source": []
  }
 ],
 "metadata": {
  "kernelspec": {
   "display_name": "Python 3 (ipykernel)",
   "language": "python",
   "name": "python3"
  },
  "language_info": {
   "codemirror_mode": {
    "name": "ipython",
    "version": 3
   },
   "file_extension": ".py",
   "mimetype": "text/x-python",
   "name": "python",
   "nbconvert_exporter": "python",
   "pygments_lexer": "ipython3",
   "version": "3.10.9"
  }
 },
 "nbformat": 4,
 "nbformat_minor": 5
}
